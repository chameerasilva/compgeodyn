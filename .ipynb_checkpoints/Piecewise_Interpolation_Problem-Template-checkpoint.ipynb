{
 "cells": [
  {
   "cell_type": "markdown",
   "metadata": {},
   "source": [
    "# CERI 7315/8315 Piecewise Interpolation Exercise"
   ]
  },
  {
   "cell_type": "code",
   "execution_count": null,
   "metadata": {
    "jupyter": {
     "outputs_hidden": false
    }
   },
   "outputs": [],
   "source": [
    "import numpy as np\n",
    "import matplotlib.pyplot as plt\n",
    "%matplotlib inline"
   ]
  },
  {
   "cell_type": "markdown",
   "metadata": {},
   "source": [
    "## (a) Create a triangulation of Ω and visualize it."
   ]
  },
  {
   "cell_type": "markdown",
   "metadata": {},
   "source": [
    "### Set the parameters for the domain and the triangulation"
   ]
  },
  {
   "cell_type": "code",
   "execution_count": null,
   "metadata": {
    "collapsed": true,
    "jupyter": {
     "outputs_hidden": true
    }
   },
   "outputs": [],
   "source": [
    "# Bounds in x and y directions.\n",
    "xmin = -1.0\n",
    "xmax = 1.0\n",
    "ymin = -1.0\n",
    "ymax = 1.0\n",
    "\n",
    "# Number of nodes in x and y directions.\n",
    "nx = 9\n",
    "ny = 9\n",
    "\n",
    "# Number of rectangles to be further divided into two triangles.\n",
    "nex = nx - 1\n",
    "ney = ny - 1\n",
    "\n",
    "# Total number of nodes and rectagles.\n",
    "nnode = nx*ny\n",
    "nelem = 2*nex*ney\n",
    "\n",
    "# Interval in x and y directions for later uses.\n",
    "dx = (xmax-xmin)/(nx-1)\n",
    "dy = (ymax-ymin)/(ny-1)"
   ]
  },
  {
   "cell_type": "markdown",
   "metadata": {},
   "source": [
    "### Create an array of coordinates."
   ]
  },
  {
   "cell_type": "code",
   "execution_count": null,
   "metadata": {
    "jupyter": {
     "outputs_hidden": false
    }
   },
   "outputs": [],
   "source": [
    "# Create a 2D array, 'coord', \n",
    "# which stores x and y coordinates of the nx*ny nodes\n",
    "coord = np.zeros((nnode, 2))\n",
    "\n",
    "# Populate 'coord'.\n",
    "#\n",
    "# To be completed\n",
    "#\n",
    "\n",
    "# Print the coordinates of all or some of the nodes\n",
    "# and verify that they are correct.\n",
    "# e.g., x and y coordinates of node 19 (counted from zero)\n",
    "print( coord[19,:] )"
   ]
  },
  {
   "cell_type": "markdown",
   "metadata": {},
   "source": [
    "### Create a connectivity array."
   ]
  },
  {
   "cell_type": "code",
   "execution_count": null,
   "metadata": {
    "jupyter": {
     "outputs_hidden": false
    }
   },
   "outputs": [],
   "source": [
    "# Create a 2D array, 'connectivity',\n",
    "# which stores the node numbers of 3 apexes of nex * ney elements.\n",
    "connectivity = np.zeros((nelem, 3), dtype=np.int)\n",
    "\n",
    "# Populate 'connectivity'\n",
    "#\n",
    "# To be completed:\n",
    "#\n",
    "\n",
    "# Verify the implementation. \n",
    "# For instance, print the ID of the first (index 0) apex \n",
    "# of the element 5 (counted from zero)\n",
    "print connectivity[5,0]"
   ]
  },
  {
   "cell_type": "markdown",
   "metadata": {},
   "source": [
    "### Visualize the triangulation."
   ]
  },
  {
   "cell_type": "code",
   "execution_count": null,
   "metadata": {
    "jupyter": {
     "outputs_hidden": false
    }
   },
   "outputs": [],
   "source": [
    "plt.triplot(coord[:,0], coord[:,1], connectivity)\n",
    "plt.gca().set_aspect('equal')"
   ]
  },
  {
   "cell_type": "markdown",
   "metadata": {},
   "source": [
    "## (b) Define $\\hat{l}(\\hat{x},\\hat{y})$ function."
   ]
  },
  {
   "cell_type": "code",
   "execution_count": null,
   "metadata": {
    "jupyter": {
     "outputs_hidden": false
    }
   },
   "outputs": [],
   "source": [
    "# Characteristic Lagrange polynomial for the refrence triangle\n",
    "def l_hat(lnode, x_hat):\n",
    "    ''' \n",
    "    retuns the value of the characteristic Lagrange polynomial\n",
    "    associated with a local node ('lnode') of the reference triangle\n",
    "    at a point, x_hat = [xhat, yhat].\n",
    "    '''\n",
    "    # to be completed\n",
    "\n",
    "# Verify the implementation by printing l_hat \n",
    "# for local node 0 at [xhat, yhat] = [0.1, 0.1]\n",
    "print l_hat(0,[0.1,0.1])"
   ]
  },
  {
   "cell_type": "markdown",
   "metadata": {},
   "source": [
    "## (c) Populate an array of nodal values."
   ]
  },
  {
   "cell_type": "code",
   "execution_count": null,
   "metadata": {
    "jupyter": {
     "outputs_hidden": false
    }
   },
   "outputs": [],
   "source": [
    "# Gaussian function\n",
    "def gaussian(x):\n",
    "    return np.exp( -(x[0]**2 + x[1]**2) )\n",
    "\n",
    "# create an array of nodal values\n",
    "gaussian_nodal = np.zeros(nnode)\n",
    "for i in range(nnode):\n",
    "    gaussian_nodal[i] = gaussian(coord[i,:])\n",
    "#print gaussian_nodal"
   ]
  },
  {
   "cell_type": "markdown",
   "metadata": {},
   "source": [
    "## (d) Create a set of interpolation points."
   ]
  },
  {
   "cell_type": "markdown",
   "metadata": {},
   "source": [
    "An array of interpolation points is created here.\n",
    "The array is supposed to be denser (i.e., having more points) than the triangulation nodes.\n",
    "Also, we avoid potential problems due to round-off error by creating all the points **within** the domain with none falling on the boundaries."
   ]
  },
  {
   "cell_type": "code",
   "execution_count": null,
   "metadata": {
    "jupyter": {
     "outputs_hidden": false
    }
   },
   "outputs": [],
   "source": [
    "nxi = 50\n",
    "dxi = (xmax-xmin)/nxi\n",
    "# Note the start and end coordinates.\n",
    "# We do this to make the point set completely contained within the domain.\n",
    "xi = np.linspace(xmin+0.5*dxi,xmax-0.5*dxi,nxi)\n",
    "nyi = 50\n",
    "dyi = (ymax-ymin)/nyi\n",
    "yi = np.linspace(ymin+0.5*dyi,ymax-0.5*dyi,nyi)\n",
    "\n",
    "nnodei = nxi*nyi\n",
    "interp_points = np.zeros((nnodei,2))\n",
    "for j in range(nyi):\n",
    "    for i in range(nxi):\n",
    "        interp_points[i+nxi*j,:] = [xi[i],yi[j]]\n",
    "#print interp_points"
   ]
  },
  {
   "cell_type": "markdown",
   "metadata": {},
   "source": [
    "## (e) Implement piecewise interpolation restricted to an element"
   ]
  },
  {
   "cell_type": "markdown",
   "metadata": {},
   "source": [
    "We first define some helper functions to\n",
    "1. find in which element an interpolation point is contained (find_triangle() and is_below_diagonal()),\n",
    "2. compute the point's coordinates in the reference triangle (get_reference_coord()).\n",
    "\n",
    "Note that these functions work only after a triangulation is known and so cannot be defined earlier."
   ]
  },
  {
   "cell_type": "code",
   "execution_count": null,
   "metadata": {
    "jupyter": {
     "outputs_hidden": false
    }
   },
   "outputs": [],
   "source": [
    "def is_below_diagonal( ul, lr, x):\n",
    "    '''\n",
    "    decide whether a given point (x) is below the line defined\n",
    "    by the two points, ul (uppler left) and lr (lower right).\n",
    "    \n",
    "    Returns true if below and false otherwise.\n",
    "    '''\n",
    "    y_diag = (lr[1]-ul[1])/(lr[0]-ul[0])*(x[0]-ul[0])+ul[1]\n",
    "    if x[1] < y_diag:\n",
    "        return True\n",
    "    else:\n",
    "        return False\n",
    "\n",
    "def find_triangle(x):\n",
    "    \"\"\" Find a triangular element that contains\n",
    "        point 'x' and return the element \"\"\"\n",
    "    i = int((x[0]+1.0)/dx)\n",
    "    j = int((x[1]+1.0)/dy)\n",
    "    interval_id = i + nex*j\n",
    "    \n",
    "    diag_ul = coord[connectivity[2*interval_id,2],:]\n",
    "    diag_lr = coord[connectivity[2*interval_id,1],:]\n",
    "    \n",
    "    #print x,i,j,interval_id, diag_ul, diag_lr, is_below_diagonal(diag_ul, diag_lr, x)\n",
    "        \n",
    "    if is_below_diagonal(diag_ul, diag_lr, x):\n",
    "        return 2*interval_id\n",
    "    else:\n",
    "        return 2*interval_id+1\n",
    "    \n",
    "def get_reference_coord( el, point ):\n",
    "    ''' Performs the inverse affine mapping from 'point' \n",
    "        contained in element 'el' to a cooresponding point \n",
    "        in the reference triangle.\n",
    "        \n",
    "        Inputs:\n",
    "            el - ID of the element containing 'point'.\n",
    "            point - [x,y], array of x and y coordinates\n",
    "                    to be inverse-mapped.\n",
    "        Return:\n",
    "            [xhat, yhat] - array of the mapped point \n",
    "                           in the reference triangle.\n",
    "    '''\n",
    "    #\n",
    "    # To be completed\n",
    "    #\n"
   ]
  },
  {
   "cell_type": "markdown",
   "metadata": {},
   "source": [
    "## (f) Evaluate $\\Pi_{h}^{1} \\, f(x,y)$"
   ]
  },
  {
   "cell_type": "markdown",
   "metadata": {},
   "source": [
    "We create two arrays, one for storing the (exact) Gaussian function values (`f`) \n",
    "and the other for the interpolated values (`f_hat`).\n",
    "\n",
    "The main loop over the entire set of interpolation points is composed of 4 steps:\n",
    "   1. Find the containing element for a given interpolation point ($\\boldsymbol{x}_{i}$).\n",
    "   2. Determine $\\boldsymbol{B}$ and $\\boldsymbol{b}$ for the inverse affine mapping from (x_{i},y_{i}) to ($\\hat{x}_{i},\\hat{y}_{i}$)\n",
    "   3. Evaluate the Gaussian at $\\boldsymbol{x}_{i}$ and store it in `f`.\n",
    "   4. Compute $\\bar{f}(\\boldsymbol{x}_{i}) = \\sum_{j=0}^{3} \\, f_{j} \\, \\hat{l}_{j}(\\boldsymbol{B}^{-1}(\\boldsymbol{x_{i}}-\\boldsymbol{b}))$ and store the value in `f_bar`."
   ]
  },
  {
   "cell_type": "code",
   "execution_count": null,
   "metadata": {
    "jupyter": {
     "outputs_hidden": false
    }
   },
   "outputs": [],
   "source": [
    "# array to store values of the Gaussian function.\n",
    "f = np.zeros((nxi*nyi)) \n",
    "# array to store interpolated valeus.\n",
    "f_bar = np.zeros((nxi*nyi)) \n",
    "\n",
    "for i in range(nnodei):\n",
    "    point = interp_points[i,:]\n",
    "    # Find the containing element for this point\n",
    "    el = find_triangle(point)\n",
    "    #print point, el\n",
    "    \n",
    "    # Compute x_hat, y_hat\n",
    "    point_hat = get_reference_coord(el, point)\n",
    "    #print point, point_hat\n",
    "    \n",
    "    # Interpolate the nodal values on this point\n",
    "    # and save it in f_bar.\n",
    "    #\n",
    "    # To be completed\n",
    "    #\n",
    "    \n",
    "    \n",
    "    # Populate the true Gaussian\n",
    "    f[i] = gaussian(point)"
   ]
  },
  {
   "cell_type": "markdown",
   "metadata": {},
   "source": [
    "## (g) Plot the results."
   ]
  },
  {
   "cell_type": "code",
   "execution_count": null,
   "metadata": {
    "jupyter": {
     "outputs_hidden": false
    }
   },
   "outputs": [],
   "source": [
    "# For plotting purposes, create X, Y coordinates.\n",
    "X, Y = np.meshgrid(np.linspace(xmin, xmax, nxi+1), np.linspace(ymin, ymax, nyi+1))\n",
    "X, Y = np.meshgrid(np.linspace(xmin, xmax, nxi+1), np.linspace(ymin, ymax, nyi+1))\n",
    "\n",
    "# plot the (exact) Gaussian.\n",
    "plt.subplot(1,2,1)\n",
    "f_meshgrid = f.reshape((nxi,nyi))\n",
    "plt.pcolormesh(X,Y,f_meshgrid)\n",
    "plt.colorbar()\n",
    "plt.clim(0,1)\n",
    "plt.triplot(coord[:,0], coord[:,1], connectivity)\n",
    "plt.gca().set_aspect('equal')\n",
    "plt.title('Gaussian',fontsize=12)\n",
    "\n",
    "# plot the interpolated values.\n",
    "plt.subplot(1,2,2)\n",
    "f_bar_meshgrid = f_bar.reshape((nxi,nyi))\n",
    "plt.pcolormesh(X,Y,f_bar_meshgrid)\n",
    "plt.colorbar()\n",
    "plt.clim(0,1)\n",
    "plt.triplot(coord[:,0], coord[:,1], connectivity)\n",
    "plt.gca().set_aspect('equal')\n",
    "plt.title('Interpolated Gaussian',fontsize=12)"
   ]
  },
  {
   "cell_type": "code",
   "execution_count": null,
   "metadata": {
    "jupyter": {
     "outputs_hidden": false
    }
   },
   "outputs": [],
   "source": [
    "print np.linalg.norm(f-f_bar)/np.linalg.norm(f)"
   ]
  },
  {
   "cell_type": "code",
   "execution_count": null,
   "metadata": {},
   "outputs": [],
   "source": []
  }
 ],
 "metadata": {
  "kernelspec": {
   "display_name": "Python 3 (ipykernel)",
   "language": "python",
   "name": "python3"
  },
  "language_info": {
   "codemirror_mode": {
    "name": "ipython",
    "version": 3
   },
   "file_extension": ".py",
   "mimetype": "text/x-python",
   "name": "python",
   "nbconvert_exporter": "python",
   "pygments_lexer": "ipython3",
   "version": "3.9.12"
  },
  "name": "HW2_Q4.ipynb"
 },
 "nbformat": 4,
 "nbformat_minor": 4
}
